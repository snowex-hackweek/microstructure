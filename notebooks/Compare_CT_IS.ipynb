{
 "cells": [
  {
   "cell_type": "code",
   "execution_count": null,
   "id": "03b349ad-684f-403c-8320-3e72abce2b1f",
   "metadata": {},
   "outputs": [],
   "source": [
    "# script to compare SSA/equivalent diameter from CT and integrating spheres\n",
    "from read_CT_txt_files import read_CT_txt_files\n",
    "from average_CT_data import average_CT_data\n",
    "\n",
    "import matplotlib.pyplot as plt\n",
    "import numpy as np\n",
    "import pandas as pd\n",
    "\n",
    "from snowexsql.db import get_db\n",
    "from snowexsql.data import LayerData, PointData\n",
    "from snowexsql.conversions import points_to_geopandas, query_to_geopandas"
   ]
  },
  {
   "cell_type": "code",
   "execution_count": null,
   "id": "cfaffe34-98e7-4c9d-89e2-d98a02829e20",
   "metadata": {},
   "outputs": [],
   "source": [
    "# Read in reprocessed micro-CT\n",
    "data = pd.read_csv('reprocessed_microCT.csv')"
   ]
  },
  {
   "cell_type": "code",
   "execution_count": null,
   "id": "cefbea0b-bbc0-4534-bac4-eb901ec211f1",
   "metadata": {},
   "outputs": [],
   "source": [
    "db_name = 'snow:hackweek@db.snowexdata.org/snowex'\n",
    "engine_is, session_is = get_db(db_name)\n",
    "\n",
    "# Establish plot colors unique to the instrument\n",
    "c = ['k', 'm', 'c']\n",
    "\n",
    "instruments=['IRIS', 'IS3-SP-11-01F', 'IS3-SP-15-01US']\n",
    "\n",
    "colors = {inst:c[i] for i,inst in enumerate(instruments)}\n",
    "\n",
    "Deq_CT_all=np.array([])\n",
    "Deq_IS_all=np.array([])\n",
    "\n",
    "sites=['1S17','2N13','2S16','2S7','9C16']\n",
    "for site in sites:\n",
    "    data_dir='../data/microCT/' + site + '/'\n",
    "    [SSA_CT,height_min,height_max]=read_CT_txt_files(data_dir)\n",
    "    height_CT_avg=0.5*(height_min+height_max)\n",
    "    \n",
    "    q_is = session_is.query(LayerData).filter(LayerData.type == 'specific_surface_area').filter(LayerData.site_id.contains(site) )\n",
    "    df_is = query_to_geopandas(q_is, engine_is)\n",
    "    instruments_site = df_is['instrument'].unique()\n",
    "\n",
    "    fig,ax = plt.subplots()\n",
    "\n",
    "    # plot all instruments at this site\n",
    "    for instr in instruments_site:\n",
    "\n",
    "        # Grab our profile by site and instrument\n",
    "        ind = df_is['instrument'] == instr\n",
    "        profile = df_is.loc[ind].copy()    \n",
    "\n",
    "        # Don't plot it unless there is data\n",
    "        if len(profile.index) > 0:\n",
    "\n",
    "            # Sort by depth so samples that are take out of order won't mess up the plot\n",
    "            profile = profile.sort_values(by='depth')\n",
    "\n",
    "            # Layer profiles are always stored as strings. \n",
    "            profile['value'] = 6/917/profile['value'].astype(float)*1000\n",
    "            \n",
    "            ssa_CT_i = average_CT_data(height_CT_avg,SSA_CT,profile['depth'].to_numpy())            \n",
    "\n",
    "            # Plot our profile\n",
    "            ax.plot(profile['value'], profile['depth'], colors[instr], label=instr)\n",
    "            ax.plot(6/917/ssa_CT_i*1000, profile['depth'], label='CT interpolate',marker='o')\n",
    "            \n",
    "            Deq_CT_all=np.append(Deq_CT_all,6/917/ssa_CT_i*1000)\n",
    "            Deq_IS_all=np.append(Deq_IS_all,profile['value'])\n",
    "            \n",
    "\n",
    "    ax.plot(6/917/SSA_CT*1000,height_min,label='microCT')        #CT data\n",
    "    \n",
    "    if site == '2N13':\n",
    "        roll=1000\n",
    "        plt.scatter(data.Deq_x.rolling(roll).median(), data.estimated_height.rolling(roll).median()*1e2, \n",
    "                    color='k', marker='.',label='CT reprocessed')\n",
    "        #plt.scatter(data.Deq_y.rolling(roll).median(), data.estimated_height.rolling(roll).median())\n",
    "\n",
    "    ax.set_xlabel('Equivalent diameter, mm')\n",
    "    ax.set_ylabel('Height above snow-soil interface [cm]')\n",
    "    ax.legend()\n",
    "\n",
    "    ax.set_title(f'Site {site.upper()}')        \n",
    "    plt.show()"
   ]
  },
  {
   "cell_type": "code",
   "execution_count": null,
   "id": "012b4acb-0321-4c07-9a4d-99926bb32436",
   "metadata": {},
   "outputs": [],
   "source": [
    "Deq_diff=Deq_CT_all-Deq_IS_all\n",
    "Deq_diff_good=Deq_diff[~np.isnan(Deq_diff)]\n",
    "\n",
    "plt.hist(Deq_diff_good, bins='auto') \n",
    "plt.title('histogram of absolute errors')\n",
    "plt.show()"
   ]
  },
  {
   "cell_type": "code",
   "execution_count": null,
   "id": "5b744b2b-8920-43c0-b352-b739ef803efc",
   "metadata": {},
   "outputs": [],
   "source": [
    "Deq_diff_rel=Deq_diff/Deq_CT_all\n",
    "\n",
    "Deq_diff_rel_good=Deq_diff_rel[~np.isnan(Deq_diff_rel)]\n",
    "\n",
    "plt.hist(Deq_diff_rel_good , bins='auto') \n",
    "plt.title('histogram of relative difference')\n",
    "plt.xlabel('Relative difference [-]')\n",
    "plt.show()"
   ]
  },
  {
   "cell_type": "code",
   "execution_count": null,
   "id": "ea3327bc-e293-44c8-bbb4-283861ed8743",
   "metadata": {},
   "outputs": [],
   "source": [
    "np.mean(Deq_diff_rel_good)"
   ]
  },
  {
   "cell_type": "code",
   "execution_count": null,
   "id": "b9ea10ac-62e0-4e69-8d30-884473ae7468",
   "metadata": {},
   "outputs": [],
   "source": [
    "np.std(Deq_diff_rel_good)"
   ]
  },
  {
   "cell_type": "code",
   "execution_count": null,
   "id": "627fada6-56ba-4c11-a027-fc86b5229039",
   "metadata": {},
   "outputs": [],
   "source": [
    "fig,ax = plt.subplots()\n",
    "ax.plot(Deq_CT_all,Deq_diff_rel,marker='o',linestyle='none')\n",
    "ax.set_xlabel('CT Deq, mm')\n",
    "ax.set_ylabel('Relative error, fraciontal')\n",
    "plt.grid()\n",
    "plt.show()"
   ]
  },
  {
   "cell_type": "code",
   "execution_count": null,
   "id": "ca2d496e-c325-4529-8b96-fc8b61b10570",
   "metadata": {},
   "outputs": [],
   "source": [
    "len(Deq_diff_rel_good)"
   ]
  },
  {
   "cell_type": "code",
   "execution_count": null,
   "id": "21a5661d-8d87-4c8d-8379-eaaefbf1b7ff",
   "metadata": {},
   "outputs": [],
   "source": []
  }
 ],
 "metadata": {
  "kernelspec": {
   "display_name": "Python 3 (ipykernel)",
   "language": "python",
   "name": "python3"
  },
  "language_info": {
   "codemirror_mode": {
    "name": "ipython",
    "version": 3
   },
   "file_extension": ".py",
   "mimetype": "text/x-python",
   "name": "python",
   "nbconvert_exporter": "python",
   "pygments_lexer": "ipython3",
   "version": "3.7.10"
  }
 },
 "nbformat": 4,
 "nbformat_minor": 5
}
