{
 "cells": [
  {
   "cell_type": "code",
   "execution_count": null,
   "id": "a5c91add-5dea-470d-a89d-7fa7b490a221",
   "metadata": {},
   "outputs": [],
   "source": [
    "# Metadata \n",
    "This notebook should be used for retrieving info from the database and for any kind of supporting data for agu.\n",
    "\n",
    "* Number of pits\n",
    "* Number of pits with integrating sphere \n",
    "* Number of SMP profiles"
   ]
  },
  {
   "cell_type": "code",
   "execution_count": 10,
   "id": "158b826e-3644-48f3-aec1-46bc5f5b084c",
   "metadata": {},
   "outputs": [
    {
     "name": "stdout",
     "output_type": "stream",
     "text": [
      "Number of pits dug at grand mesa: 155\n",
      "Number of pits at grand mesa with integrating sphere: 105\n",
      "Number of pits at grand mesa with snowmicropen: 958\n"
     ]
    }
   ],
   "source": [
    "from snowexsql.db import get_db \n",
    "from snowexsql.data import * \n",
    "\n",
    "db_name = 'snow:hackweek@db.snowexdata.org/snowex'\n",
    "engine, session = get_db(db_name)\n",
    "\n",
    "\n",
    "# Number of pits at gm \n",
    "result = session.query(LayerData.site_id, LayerData.date).filter(LayerData.type =='hand_hardness').distinct().all()\n",
    "print(f'Number of pits dug at grand mesa: {len(result)}')\n",
    "\n",
    "# Number of pits with integrating sphere \n",
    "result = session.query(LayerData.site_id, LayerData.date).filter(LayerData.type=='specific_surface_area').distinct().all()\n",
    "print(f'Number of pits at grand mesa with integrating sphere: {len(result)}')\n",
    "\n",
    "\n",
    "# Number of SMP profiles\n",
    "result = session.query(LayerData.site_id, LayerData.date, LayerData.time).filter(LayerData.instrument=='snowmicropen').distinct().all()\n",
    "print(f'Number of pits at grand mesa with snowmicropen: {len(result)}')"
   ]
  },
  {
   "cell_type": "code",
   "execution_count": null,
   "id": "809d80ff-af1c-451d-8729-c480c470ac94",
   "metadata": {},
   "outputs": [],
   "source": []
  }
 ],
 "metadata": {
  "kernelspec": {
   "display_name": "Python 3 (ipykernel)",
   "language": "python",
   "name": "python3"
  },
  "language_info": {
   "codemirror_mode": {
    "name": "ipython",
    "version": 3
   },
   "file_extension": ".py",
   "mimetype": "text/x-python",
   "name": "python",
   "nbconvert_exporter": "python",
   "pygments_lexer": "ipython3",
   "version": "3.7.11"
  }
 },
 "nbformat": 4,
 "nbformat_minor": 5
}
