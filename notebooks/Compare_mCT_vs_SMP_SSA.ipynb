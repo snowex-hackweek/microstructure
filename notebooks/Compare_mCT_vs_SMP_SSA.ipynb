{
 "cells": [
  {
   "cell_type": "code",
   "execution_count": null,
   "id": "3a1b92bd",
   "metadata": {},
   "outputs": [],
   "source": [
    "import pickle\n",
    "import pandas as pd\n",
    "import numpy as np\n",
    "import matplotlib.pyplot as plt\n",
    "from importlib import reload\n",
    "import sys\n",
    "from scipy.stats import binned_statistic\n",
    "import warnings\n",
    "from scipy.optimize import minimize\n",
    "\n",
    "warnings.filterwarnings(\"ignore\")"
   ]
  },
  {
   "cell_type": "code",
   "execution_count": null,
   "id": "df6b696d",
   "metadata": {},
   "outputs": [],
   "source": [
    "sys.path.insert(1,'../../snowmicropyn')\n",
    "import snowmicropyn\n",
    "print(snowmicropyn.__file__)\n",
    "\n",
    "from snowmicropyn import density_ssa"
   ]
  },
  {
   "cell_type": "markdown",
   "id": "6697934e",
   "metadata": {},
   "source": [
    "# Read in mCT data"
   ]
  },
  {
   "cell_type": "code",
   "execution_count": null,
   "id": "76d61aea",
   "metadata": {},
   "outputs": [],
   "source": [
    "def get_mct_frame(site):\n",
    "\n",
    "    frames = pickle.load(open('../data/microCT/processed_mCT.p', 'rb'))\n",
    "\n",
    "    mct_df = frames[site]\n",
    "\n",
    "    mct_df = mct_df.drop_duplicates(subset='height_ave (cm)',keep=\"first\")\n",
    "\n",
    "    mct_df.set_index('height_ave (cm)', inplace=True)\n",
    "    \n",
    "    return(mct_df)\n",
    "\n",
    "site = '2N13'\n",
    "\n",
    "mct_df = get_mct_frame(site)\n",
    "\n",
    "mct_df"
   ]
  },
  {
   "cell_type": "code",
   "execution_count": null,
   "id": "9873530e",
   "metadata": {},
   "outputs": [],
   "source": [
    "fig,ax = plt.subplots()\n",
    "ax.plot(mct_df['Equiv. Diam (mm)'],\n",
    "         mct_df.index)\n",
    "\n",
    "ax.set_xlabel('Equiv. Diam (mm)')\n",
    "ax.set_ylabel('Height above snow-soil interface [cm]')\n",
    "\n",
    "ax.set_title(f'Site {site.upper()}')\n",
    "\n",
    "plt.show()\n",
    "\n",
    "# return df to get a look at it\n",
    "\n",
    "mct_df"
   ]
  },
  {
   "cell_type": "markdown",
   "id": "f5102df0",
   "metadata": {},
   "source": [
    "# Read SMP data"
   ]
  },
  {
   "cell_type": "code",
   "execution_count": null,
   "id": "b2aab1d2",
   "metadata": {},
   "outputs": [],
   "source": [
    "p = snowmicropyn.Profile.load(f'../data/SMP/SNEX20_SMP_S19M1172_2N13_20200206.PNT')\n",
    "\n",
    "p.detect_ground()"
   ]
  },
  {
   "cell_type": "markdown",
   "id": "60b256d0",
   "metadata": {},
   "source": [
    "# Sensitivity analysis to window size"
   ]
  },
  {
   "cell_type": "code",
   "execution_count": null,
   "id": "42408821",
   "metadata": {},
   "outputs": [],
   "source": [
    "C20_ssa_coeffs = [0.57, -18.56, -3.66]\n",
    "\n",
    "C20_coeffs = {'density': [295.8, 65.1, -43.2, 47.1],\n",
    "              'ssa':C20_ssa_coeffs,\n",
    "              'equation':'ssa'}\n",
    "\n",
    "P15_ssa_coeffs = [0.131, 0.355, 0.0291]\n",
    "\n",
    "P15_coeffs = {'density':[420.47, 102.47, -121.15, -169.96],\n",
    "              'ssa':P15_ssa_coeffs,\n",
    "              'equation':'l_ex'}\n",
    "\n",
    "C20_window = 1\n",
    "P15_window = 2.5"
   ]
  },
  {
   "cell_type": "code",
   "execution_count": null,
   "id": "f3f14e70",
   "metadata": {},
   "outputs": [],
   "source": [
    "def get_P15_C20(p):\n",
    "\n",
    "    df_C20 = snowmicropyn.density_ssa.calc(p.samples,\n",
    "                                            coeff_model=C20_coeffs,\n",
    "                                            window=C20_window,\n",
    "                                            overlap=50)\n",
    "\n",
    "    df_P15 = snowmicropyn.density_ssa.calc(p.samples,\n",
    "                                            coeff_model=P15_coeffs,\n",
    "                                            window=P15_window,\n",
    "                                            overlap=50)\n",
    "\n",
    "    ###################################################\n",
    "\n",
    "    df_C20.columns = ['distance', 'Cdensity', 'Cssa']\n",
    "\n",
    "    df_P15.columns = ['distance', 'Pdensity', 'Pssa']\n",
    "\n",
    "    ###################################################\n",
    "\n",
    "    df_combined = pd.merge(left=df_P15, right=df_C20)\n",
    "\n",
    "    df_combined = df_combined[(df_combined['distance'] < p.ground)]\n",
    "\n",
    "    df_combined['distance_up'] = (p.ground - df_combined['distance'])/10\n",
    "\n",
    "    df_combined.set_index('distance_up',inplace=True)\n",
    "\n",
    "    df_combined.sort_index()\n",
    "\n",
    "    df_combined.dropna(how='any')\n",
    "    \n",
    "    return df_combined\n",
    "\n",
    "PC_df = get_P15_C20(p)\n",
    "PC_df"
   ]
  },
  {
   "cell_type": "code",
   "execution_count": null,
   "id": "129eba6d",
   "metadata": {},
   "outputs": [],
   "source": [
    "def resample_PC_to_mCT(mct_df, PC_df):\n",
    "\n",
    "    for code in ['Cssa', 'Pssa']:\n",
    "\n",
    "        mct_df[code] = [np.nanmean(PC_df[code][(PC_df.index < u) & (PC_df.index > l)]) \n",
    "                          for l, u in zip(mct_df['height_min (cm)'], mct_df['height_max (cm)'])   ]\n",
    "        \n",
    "    return mct_df\n",
    "\n",
    "com_df = resample_PC_to_mCT(mct_df, PC_df)\n",
    "\n",
    "com_df"
   ]
  },
  {
   "cell_type": "code",
   "execution_count": null,
   "id": "36244238",
   "metadata": {},
   "outputs": [],
   "source": [
    "fig,ax = plt.subplots(figsize=(8,5))\n",
    "\n",
    "ax.plot(com_df['Pssa'], com_df.index,label='P2015')\n",
    "ax.plot(com_df['Cssa'], com_df.index,label='C2020')\n",
    "\n",
    "ax.plot(com_df['SSA (m2/kg)'],\n",
    "         com_df.index,\n",
    "       label='mCT',\n",
    "        color='k',\n",
    "       zorder=5)\n",
    "\n",
    "ax.set_xlabel('SSA (m2/kg)', fontsize='x-large')\n",
    "ax.set_ylabel('Height above snow-soil interface [cm]', fontsize='x-large')\n",
    "\n",
    "ax.set_title(f'Site {site.upper()}', fontsize='x-large')\n",
    "\n",
    "ax.legend(loc='lower right', fontsize='x-large')\n",
    "\n",
    "plt.show()"
   ]
  },
  {
   "cell_type": "code",
   "execution_count": null,
   "id": "ce5ee709",
   "metadata": {},
   "outputs": [],
   "source": [
    "def get_RMSE(mct_df):\n",
    "\n",
    "    CRMSE = np.sqrt(np.nanmean(np.square(mct_df['SSA (m2/kg)']-mct_df['Cssa'])))\n",
    "    PRMSE = np.sqrt(np.nanmean(np.square(mct_df['SSA (m2/kg)']-mct_df['Pssa'])))\n",
    "    \n",
    "    return {'CRMSE':CRMSE,\n",
    "            'PRMSE':PRMSE}\n",
    "\n",
    "get_RMSE(com_df)"
   ]
  },
  {
   "cell_type": "markdown",
   "id": "dce61ac2",
   "metadata": {},
   "source": [
    "# Now iterate coefficients to find best fit"
   ]
  },
  {
   "cell_type": "code",
   "execution_count": null,
   "id": "df77c6d3",
   "metadata": {},
   "outputs": [],
   "source": [
    "def get_ssa(p, coeffs_dict):\n",
    "\n",
    "    df = snowmicropyn.density_ssa.calc(p.samples,\n",
    "                                            coeff_model=coeffs_dict,\n",
    "                                            window=C20_window,\n",
    "                                            overlap=50)\n",
    "\n",
    "    df = df[(df['distance'] < p.ground)]\n",
    "\n",
    "    df['distance_up'] = (p.ground - df['distance'])/10\n",
    "\n",
    "    df.set_index('distance_up',inplace=True)\n",
    "\n",
    "    df.sort_index()\n",
    "\n",
    "    df.dropna(how='any')\n",
    "    \n",
    "    return df\n",
    "\n",
    "def resample_SMP_to_mCT(mct_df, df):\n",
    "    \n",
    "    com_df = mct_df.copy()\n",
    "    \n",
    "    com_df['ssa'] = [np.nanmean(df['ssa'][(df.index < u) & (df.index > l)]) \n",
    "                      for l, u in zip(mct_df['height_min (cm)'], mct_df['height_max (cm)'])   ]\n",
    "        \n",
    "    return com_df"
   ]
  },
  {
   "cell_type": "code",
   "execution_count": null,
   "id": "6370fcb1",
   "metadata": {},
   "outputs": [],
   "source": [
    "def compare_smp_to_mct(coeffs_list,mct_df,p,eqn='ssa'):\n",
    "    \n",
    "    coeffs_dict = {'density': [295.8, 65.1, -43.2, 47.1],\n",
    "                  'ssa':coeffs_list,\n",
    "                  'equation':eqn}\n",
    "\n",
    "    df = get_ssa(p, coeffs_dict)\n",
    "    \n",
    "#     print(df)\n",
    "    \n",
    "    com_df = resample_SMP_to_mCT(mct_df, df)\n",
    "    \n",
    "#     print(com_df)\n",
    "    \n",
    "    return(com_df)\n",
    "\n",
    "def calc_RMSE(coeffs_list,mct_df,p,eqn='ssa'):\n",
    "    \n",
    "    com_df = compare_smp_to_mct(coeffs_list,mct_df,p,eqn)\n",
    "    \n",
    "    RMSE = np.sqrt(np.nanmean(np.square(com_df['SSA (m2/kg)']-com_df['ssa'])))\n",
    "    \n",
    "    print(RMSE)\n",
    "    \n",
    "    return RMSE"
   ]
  },
  {
   "cell_type": "code",
   "execution_count": null,
   "id": "e6945c77",
   "metadata": {},
   "outputs": [],
   "source": [
    "site = '2N13'\n",
    "\n",
    "mct_df = get_mct_frame(site)\n",
    "\n",
    "RMSE = calc_RMSE(C20_ssa_coeffs,mct_df,p)"
   ]
  },
  {
   "cell_type": "code",
   "execution_count": null,
   "id": "11684781",
   "metadata": {},
   "outputs": [],
   "source": [
    "initial_guess = C20_ssa_coeffs\n",
    "\n",
    "min_output = minimize(fun=calc_RMSE,\n",
    "                     x0=initial_guess,\n",
    "                     args=(mct_df, p))"
   ]
  },
  {
   "cell_type": "markdown",
   "id": "26b5c612",
   "metadata": {},
   "source": [
    "# Plot the results of the minimization exercise"
   ]
  },
  {
   "cell_type": "code",
   "execution_count": null,
   "id": "a8549918",
   "metadata": {},
   "outputs": [],
   "source": [
    "ssa_coeffs_min = list(min_output.x)\n",
    "\n",
    "min_df = compare_smp_to_mct(ssa_coeffs_min,mct_df,p)\n",
    "\n",
    "#############\n",
    "\n",
    "C20_coeffs = [0.57, -18.56, -3.66]\n",
    "\n",
    "C20_df = compare_smp_to_mct(C20_coeffs,mct_df,p)\n",
    "\n",
    "# ################\n",
    "\n",
    "P15_coeffs = [0.131, 0.355, 0.0291]\n",
    "\n",
    "P15_df = compare_smp_to_mct(P15_coeffs,mct_df,p,eqn='l_ex')"
   ]
  },
  {
   "cell_type": "code",
   "execution_count": null,
   "id": "ef03fe94",
   "metadata": {},
   "outputs": [],
   "source": [
    "plt.plot(min_df['ssa'],min_df.index,label='minimized coeffs')\n",
    "\n",
    "plt.plot(P15_df['ssa'],min_df.index,label='P2015')\n",
    "\n",
    "plt.plot(C20_df['ssa'],min_df.index,label='C2020')\n",
    "\n",
    "plt.plot(min_df['SSA (m2/kg)'],min_df.index,label='micro-CT')\n",
    "\n",
    "plt.xlabel('SSA (m2/kg)', fontsize='x-large')\n",
    "plt.ylabel('Height above snow-\\nsoil interface [cm]', fontsize='x-large')\n",
    "\n",
    "plt.legend()"
   ]
  }
 ],
 "metadata": {
  "kernelspec": {
   "display_name": "Python 3 (ipykernel)",
   "language": "python",
   "name": "python3"
  },
  "language_info": {
   "codemirror_mode": {
    "name": "ipython",
    "version": 3
   },
   "file_extension": ".py",
   "mimetype": "text/x-python",
   "name": "python",
   "nbconvert_exporter": "python",
   "pygments_lexer": "ipython3",
   "version": "3.7.11"
  }
 },
 "nbformat": 4,
 "nbformat_minor": 5
}
